{
 "cells": [
  {
   "cell_type": "code",
   "execution_count": 20,
   "metadata": {},
   "outputs": [
    {
     "name": "stderr",
     "output_type": "stream",
     "text": [
      "C:\\Users\\svienne\\AppData\\Local\\Temp\\ipykernel_42324\\3153359968.py:8: UserWarning:\n",
      "\n",
      "\n",
      "The dash_core_components package is deprecated. Please replace\n",
      "`import dash_core_components as dcc` with `from dash import dcc`\n",
      "\n",
      "C:\\Users\\svienne\\AppData\\Local\\Temp\\ipykernel_42324\\3153359968.py:9: UserWarning:\n",
      "\n",
      "\n",
      "The dash_html_components package is deprecated. Please replace\n",
      "`import dash_html_components as html` with `from dash import html`\n",
      "\n"
     ]
    },
    {
     "name": "stdout",
     "output_type": "stream",
     "text": [
      "     State  ANSI Affected by  Year state_code  Pct of Colonies Impacted\n",
      "0  Alabama     1     Disease  2015         AL                      0.05\n",
      "1  Alabama     1     Disease  2016         AL                      1.20\n",
      "2  Alabama     1     Disease  2017         AL                      2.25\n",
      "3  Alabama     1     Disease  2018         AL                      1.30\n",
      "4  Alabama     1     Disease  2019         AL                      1.80\n"
     ]
    },
    {
     "data": {
      "text/html": [
       "\n",
       "        <iframe\n",
       "            width=\"100%\"\n",
       "            height=\"650\"\n",
       "            src=\"http://127.0.0.1:8050/\"\n",
       "            frameborder=\"0\"\n",
       "            allowfullscreen\n",
       "            \n",
       "        ></iframe>\n",
       "        "
      ],
      "text/plain": [
       "<IPython.lib.display.IFrame at 0x1bee7b639e0>"
      ]
     },
     "metadata": {},
     "output_type": "display_data"
    },
    {
     "name": "stdout",
     "output_type": "stream",
     "text": [
      "2015\n",
      "<class 'int'>\n",
      "2017\n",
      "<class 'int'>\n"
     ]
    }
   ],
   "source": [
    "# Solution to bar challenge.\n",
    "# Changed code lines 64 to 71\n",
    "\n",
    "import pandas as pd\n",
    "import plotly.express as px  # (version 4.7.0)\n",
    "\n",
    "import dash  # (version 1.12.0) pip install dash\n",
    "import dash_core_components as dcc\n",
    "import dash_html_components as html\n",
    "from dash.dependencies import Input, Output\n",
    "\n",
    "app = dash.Dash(__name__)\n",
    "\n",
    "# ------------------------------------------------------------------------------\n",
    "# Import and clean data (importing csv into pandas)\n",
    "df = pd.read_csv(\"intro_bees.csv\")\n",
    "\n",
    "df = df.groupby(['State', 'ANSI', 'Affected by', 'Year', 'state_code'])[['Pct of Colonies Impacted']].mean()\n",
    "df.reset_index(inplace=True)\n",
    "print(df[:5])\n",
    "\n",
    "# ------------------------------------------------------------------------------\n",
    "# App layout\n",
    "app.layout = html.Div([\n",
    "\n",
    "    html.H1(\"Web Application Dashboards with Dash\", style={'text-align': 'center'}),\n",
    "\n",
    "    dcc.Dropdown(id=\"slct_year\",\n",
    "                 options=[\n",
    "                     {\"label\": \"2015\", \"value\": 2015},\n",
    "                     {\"label\": \"2016\", \"value\": 2016},\n",
    "                     {\"label\": \"2017\", \"value\": 2017},\n",
    "                     {\"label\": \"2018\", \"value\": 2018}],\n",
    "                 multi=False,\n",
    "                 value=2015,\n",
    "                 style={'width': \"40%\"}\n",
    "                 ),\n",
    "\n",
    "    html.Div(id='output_container', children=[]),\n",
    "    html.Br(),\n",
    "\n",
    "    dcc.Graph(id='my_bee_map', figure={})\n",
    "\n",
    "])\n",
    "\n",
    "\n",
    "# ------------------------------------------------------------------------------\n",
    "# Connect the Plotly graphs with Dash Components\n",
    "@app.callback(\n",
    "    [Output(component_id='output_container', component_property='children'),\n",
    "     Output(component_id='my_bee_map', component_property='figure')],\n",
    "    [Input(component_id='slct_year', component_property='value')]\n",
    ")\n",
    "def update_graph(option_slctd):\n",
    "    print(option_slctd)\n",
    "    print(type(option_slctd))\n",
    "\n",
    "    container = \"The year chosen by user was: {}\".format(option_slctd)\n",
    "\n",
    "    dff = df.copy()\n",
    "    dff = dff[dff[\"Year\"] == option_slctd]\n",
    "    dff = dff[dff[\"Affected by\"] == \"Varroa_mites\"]\n",
    "\n",
    "    fig = px.bar(\n",
    "        data_frame=dff,\n",
    "        x='State',\n",
    "        y='Pct of Colonies Impacted',\n",
    "        hover_data=['State', 'Pct of Colonies Impacted'],\n",
    "        labels={'Pct of Colonies Impacted': '% of Bee Colonies'},\n",
    "        template='plotly_dark'\n",
    "    )\n",
    "\n",
    "    return container, fig\n",
    "\n",
    "\n",
    "# ------------------------------------------------------------------------------\n",
    "if __name__ == '__main__':\n",
    "    app.run_server(debug=True)"
   ]
  },
  {
   "cell_type": "code",
   "execution_count": 18,
   "metadata": {},
   "outputs": [
    {
     "ename": "FileNotFoundError",
     "evalue": "[Errno 2] No such file or directory: '.mapbox_token'",
     "output_type": "error",
     "traceback": [
      "\u001b[1;31m---------------------------------------------------------------------------\u001b[0m",
      "\u001b[1;31mFileNotFoundError\u001b[0m                         Traceback (most recent call last)",
      "Cell \u001b[1;32mIn[18], line 2\u001b[0m\n\u001b[0;32m      1\u001b[0m \u001b[38;5;28;01mimport\u001b[39;00m \u001b[38;5;21;01mplotly\u001b[39;00m\u001b[38;5;21;01m.\u001b[39;00m\u001b[38;5;21;01mexpress\u001b[39;00m \u001b[38;5;28;01mas\u001b[39;00m \u001b[38;5;21;01mpx\u001b[39;00m\n\u001b[1;32m----> 2\u001b[0m px\u001b[38;5;241m.\u001b[39mset_mapbox_access_token(\u001b[38;5;28;43mopen\u001b[39;49m\u001b[43m(\u001b[49m\u001b[38;5;124;43m\"\u001b[39;49m\u001b[38;5;124;43m.mapbox_token\u001b[39;49m\u001b[38;5;124;43m\"\u001b[39;49m\u001b[43m)\u001b[49m\u001b[38;5;241m.\u001b[39mread())\n\u001b[0;32m      3\u001b[0m df \u001b[38;5;241m=\u001b[39m px\u001b[38;5;241m.\u001b[39mdata\u001b[38;5;241m.\u001b[39mcarshare()\n\u001b[0;32m      4\u001b[0m fig \u001b[38;5;241m=\u001b[39m px\u001b[38;5;241m.\u001b[39mscatter_mapbox(df, lat\u001b[38;5;241m=\u001b[39m\u001b[38;5;124m\"\u001b[39m\u001b[38;5;124mcentroid_lat\u001b[39m\u001b[38;5;124m\"\u001b[39m, lon\u001b[38;5;241m=\u001b[39m\u001b[38;5;124m\"\u001b[39m\u001b[38;5;124mcentroid_lon\u001b[39m\u001b[38;5;124m\"\u001b[39m,     color\u001b[38;5;241m=\u001b[39m\u001b[38;5;124m\"\u001b[39m\u001b[38;5;124mpeak_hour\u001b[39m\u001b[38;5;124m\"\u001b[39m, size\u001b[38;5;241m=\u001b[39m\u001b[38;5;124m\"\u001b[39m\u001b[38;5;124mcar_hours\u001b[39m\u001b[38;5;124m\"\u001b[39m,\n\u001b[0;32m      5\u001b[0m                   color_continuous_scale\u001b[38;5;241m=\u001b[39mpx\u001b[38;5;241m.\u001b[39mcolors\u001b[38;5;241m.\u001b[39mcyclical\u001b[38;5;241m.\u001b[39mIceFire, size_max\u001b[38;5;241m=\u001b[39m\u001b[38;5;241m15\u001b[39m, zoom\u001b[38;5;241m=\u001b[39m\u001b[38;5;241m10\u001b[39m)\n",
      "File \u001b[1;32m~\\AppData\\Roaming\\Python\\Python312\\site-packages\\IPython\\core\\interactiveshell.py:324\u001b[0m, in \u001b[0;36m_modified_open\u001b[1;34m(file, *args, **kwargs)\u001b[0m\n\u001b[0;32m    317\u001b[0m \u001b[38;5;28;01mif\u001b[39;00m file \u001b[38;5;129;01min\u001b[39;00m {\u001b[38;5;241m0\u001b[39m, \u001b[38;5;241m1\u001b[39m, \u001b[38;5;241m2\u001b[39m}:\n\u001b[0;32m    318\u001b[0m     \u001b[38;5;28;01mraise\u001b[39;00m \u001b[38;5;167;01mValueError\u001b[39;00m(\n\u001b[0;32m    319\u001b[0m         \u001b[38;5;124mf\u001b[39m\u001b[38;5;124m\"\u001b[39m\u001b[38;5;124mIPython won\u001b[39m\u001b[38;5;124m'\u001b[39m\u001b[38;5;124mt let you open fd=\u001b[39m\u001b[38;5;132;01m{\u001b[39;00mfile\u001b[38;5;132;01m}\u001b[39;00m\u001b[38;5;124m by default \u001b[39m\u001b[38;5;124m\"\u001b[39m\n\u001b[0;32m    320\u001b[0m         \u001b[38;5;124m\"\u001b[39m\u001b[38;5;124mas it is likely to crash IPython. If you know what you are doing, \u001b[39m\u001b[38;5;124m\"\u001b[39m\n\u001b[0;32m    321\u001b[0m         \u001b[38;5;124m\"\u001b[39m\u001b[38;5;124myou can use builtins\u001b[39m\u001b[38;5;124m'\u001b[39m\u001b[38;5;124m open.\u001b[39m\u001b[38;5;124m\"\u001b[39m\n\u001b[0;32m    322\u001b[0m     )\n\u001b[1;32m--> 324\u001b[0m \u001b[38;5;28;01mreturn\u001b[39;00m \u001b[43mio_open\u001b[49m\u001b[43m(\u001b[49m\u001b[43mfile\u001b[49m\u001b[43m,\u001b[49m\u001b[43m \u001b[49m\u001b[38;5;241;43m*\u001b[39;49m\u001b[43margs\u001b[49m\u001b[43m,\u001b[49m\u001b[43m \u001b[49m\u001b[38;5;241;43m*\u001b[39;49m\u001b[38;5;241;43m*\u001b[39;49m\u001b[43mkwargs\u001b[49m\u001b[43m)\u001b[49m\n",
      "\u001b[1;31mFileNotFoundError\u001b[0m: [Errno 2] No such file or directory: '.mapbox_token'"
     ]
    }
   ],
   "source": [
    "import plotly.express as px\n",
    "px.set_mapbox_access_token(open(\".mapbox_token\").read())\n",
    "df = px.data.carshare()\n",
    "fig = px.scatter_mapbox(df, lat=\"centroid_lat\", lon=\"centroid_lon\",     color=\"peak_hour\", size=\"car_hours\",\n",
    "                  color_continuous_scale=px.colors.cyclical.IceFire, size_max=15, zoom=10)\n",
    "fig.show()"
   ]
  },
  {
   "cell_type": "code",
   "execution_count": 9,
   "metadata": {},
   "outputs": [
    {
     "name": "stdout",
     "output_type": "stream",
     "text": [
      " * Serving Flask app '__main__'\n",
      " * Debug mode: on\n"
     ]
    },
    {
     "name": "stderr",
     "output_type": "stream",
     "text": [
      "WARNING: This is a development server. Do not use it in a production deployment. Use a production WSGI server instead.\n",
      " * Running on http://127.0.0.1:5000\n",
      "Press CTRL+C to quit\n",
      " * Restarting with stat\n"
     ]
    },
    {
     "ename": "SystemExit",
     "evalue": "1",
     "output_type": "error",
     "traceback": [
      "An exception has occurred, use %tb to see the full traceback.\n",
      "\u001b[1;31mSystemExit\u001b[0m\u001b[1;31m:\u001b[0m 1\n"
     ]
    },
    {
     "name": "stderr",
     "output_type": "stream",
     "text": [
      "C:\\Users\\svienne\\AppData\\Roaming\\Python\\Python312\\site-packages\\IPython\\core\\interactiveshell.py:3585: UserWarning: To exit: use 'exit', 'quit', or Ctrl-D.\n",
      "  warn(\"To exit: use 'exit', 'quit', or Ctrl-D.\", stacklevel=1)\n"
     ]
    }
   ],
   "source": [
    "from flask import Flask, render_template, request\n",
    "import pandas as pd\n",
    "import folium\n",
    "from folium.plugins import MarkerCluster\n",
    "\n",
    "app = Flask(__name__, template_folder='.')\n",
    "\n",
    "# Définir la fonction sorted dans le contexte de rendu de modèle\n",
    "@app.context_processor\n",
    "def utility_processor():\n",
    "    def custom_sorted(iterable):\n",
    "        return sorted(iterable)\n",
    "    return dict(sorted=custom_sorted)\n",
    "\n",
    "# Votre code Flask continue ici...\n",
    "\n",
    "# Charger les données\n",
    "df_final = pd.read_csv(r\"df_final.csv\", low_memory=False)\n",
    "df_final = df_final.dropna(subset=['latitude', 'longitude'])\n",
    "df_final['latitude'] = pd.to_numeric(df_final['latitude'], errors='coerce')\n",
    "df_final['longitude'] = pd.to_numeric(df_final['longitude'], errors='coerce')\n",
    "df_final = df_final.dropna(subset=['latitude', 'longitude'])\n",
    "df_final['type_operation'] = df_final['type_operation'].astype(str).replace('nan', 'Inconnu')\n",
    "df_final['departement'] = df_final['departement'].astype(str).replace('nan', 'Inconnu')\n",
    "\n",
    "@app.route('/', methods=['GET', 'POST'])\n",
    "def index():\n",
    "    # Filtres initiaux ou mis à jour\n",
    "    type_operation = request.form.get('type_operation', 'Tous')\n",
    "    departement = request.form.get('departement', 'Tous')\n",
    "\n",
    "    filtered_data = df_final.copy()\n",
    "    if type_operation != 'Tous':\n",
    "        filtered_data = filtered_data[filtered_data['type_operation'] == type_operation]\n",
    "    if departement != 'Tous':\n",
    "        filtered_data = filtered_data[filtered_data['departement'] == departement]\n",
    "\n",
    "    # Prendre un échantillon après filtrage\n",
    "    df_sample = filtered_data.sample(n=1000, random_state=42) if len(filtered_data) > 1000 else filtered_data\n",
    "\n",
    "    # Création de la carte\n",
    "    map1 = folium.Map(location=[10, 20], zoom_start=2, tiles='OpenStreetMap')\n",
    "    marker_cluster = MarkerCluster().add_to(map1)\n",
    "\n",
    "    for _, row in df_sample.iterrows():\n",
    "        popup_content = (\n",
    "            f\"<b>Événement:</b> {row['evenement']}<br>\"\n",
    "            f\"<b>Type d'opération:</b> {row['type_operation']}<br>\"\n",
    "            f\"<b>Département:</b> {row['departement']}<br>\"\n",
    "            f\"<b>Catégorie d'événement:</b> {row['categorie_evenement']}<br>\"\n",
    "            f\"<b>Date et heure de réception d'alerte (UTC):</b> {row['date_heure_reception_alerte']}<br>\"\n",
    "            f\"<b>Zone de responsabilité:</b> {row['zone_responsabilite']}<br>\"\n",
    "            f\"<b>CROSS Sitrep:</b> {row['cross_sitrep']}<br>\"\n",
    "            f\"<b>Type de flotteurs impliqués:</b> {row['type_flotteur']}<br>\"\n",
    "            f\"<b>Nombre de personnes décédées ou disparues:</b> {row['nombre_personnes_decedees']}<br>\"\n",
    "            f\"<b>Distance des côtes (mètres):</b> {row['distance_cote_metres']}<br>\"\n",
    "        )\n",
    "        folium.Marker(\n",
    "            location=[row['latitude'], row['longitude']],\n",
    "            popup=popup_content,\n",
    "            icon=folium.Icon(color='blue', icon='info', prefix='fa')\n",
    "        ).add_to(marker_cluster)\n",
    "\n",
    "    map_html = map1._repr_html_()\n",
    "\n",
    "    # Rendre le template avec les données\n",
    "    return render_template('template.html', df_final=df_final, type_operation=type_operation, departement=departement, map_html=map_html)\n",
    "\n",
    "if __name__ == '__main__':\n",
    "    app.run(debug=True)\n"
   ]
  },
  {
   "cell_type": "code",
   "execution_count": 10,
   "metadata": {},
   "outputs": [
    {
     "name": "stdout",
     "output_type": "stream",
     "text": [
      "['operation_id', 'type_operation', 'pourquoi_alerte', 'moyen_alerte', 'qui_alerte', 'categorie_qui_alerte', 'cross', 'departement', 'est_metropolitain', 'evenement', 'categorie_evenement', 'autorite', 'seconde_autorite', 'zone_responsabilite', 'latitude', 'longitude', 'vent_direction', 'vent_direction_categorie', 'vent_force', 'mer_force', 'date_heure_reception_alerte', 'date_heure_fin_operation', 'numero_sitrep', 'cross_sitrep', 'fuseau_horaire', 'numero_ordre', 'pavillon', 'resultat_flotteur', 'type_flotteur', 'categorie_flotteur', 'numero_immatriculation', 'date', 'annee', 'mois', 'jour', 'mois_texte', 'semaine', 'annee_semaine', 'jour_semaine', 'est_weekend', 'est_jour_ferie', 'est_vacances_scolaires', 'phase_journee', 'concerne_plongee', 'avec_clandestins', 'distance_cote_metres', 'distance_cote_milles_nautiques', 'est_dans_stm', 'nom_stm', 'est_dans_dst', 'nom_dst', 'prefecture_maritime', 'maree_port', 'maree_coefficient', 'maree_categorie', 'nombre_personnes_blessees', 'nombre_personnes_assistees', 'nombre_personnes_decedees', 'nombre_personnes_decedees_accidentellement', 'nombre_personnes_decedees_naturellement', 'nombre_personnes_disparues', 'nombre_personnes_impliquees_dans_fausse_alerte', 'nombre_personnes_retrouvees', 'nombre_personnes_secourues', 'nombre_personnes_tirees_daffaire_seule', 'nombre_personnes_tous_deces', 'nombre_personnes_tous_deces_ou_disparues', 'nombre_personnes_impliquees', 'nombre_personnes_blessees_sans_clandestins', 'nombre_personnes_assistees_sans_clandestins', 'nombre_personnes_decedees_sans_clandestins', 'nombre_personnes_decedees_accidentellement_sans_clandestins', 'nombre_personnes_decedees_naturellement_sans_clandestins', 'nombre_personnes_disparues_sans_clandestins', 'nombre_personnes_impliquees_dans_fausse_alerte_sans_clandestins', 'nombre_personnes_retrouvees_sans_clandestins', 'nombre_personnes_secourues_sans_clandestins', 'nombre_personnes_tirees_daffaire_seule_sans_clandestins', 'nombre_personnes_tous_deces_sans_clandestins', 'nombre_personnes_tous_deces_ou_disparues_sans_clandestins', 'nombre_personnes_impliquees_sans_clandestins', 'nombre_flotteurs_commerce_impliques', 'nombre_flotteurs_peche_impliques', 'nombre_flotteurs_plaisance_impliques', 'nombre_flotteurs_loisirs_nautiques_impliques', 'nombre_aeronefs_impliques', 'nombre_flotteurs_autre_impliques', 'nombre_flotteurs_annexe_impliques', 'nombre_flotteurs_autre_loisir_nautique_impliques', 'nombre_flotteurs_canoe_kayak_aviron_impliques', 'nombre_flotteurs_engin_de_plage_impliques', 'nombre_flotteurs_kitesurf_impliques', 'nombre_flotteurs_plaisance_voile_legere_impliques', 'nombre_flotteurs_plaisance_a_moteur_impliques', 'nombre_flotteurs_plaisance_a_moteur_moins_8m_impliques', 'nombre_flotteurs_plaisance_a_moteur_plus_8m_impliques', 'nombre_flotteurs_plaisance_a_voile_impliques', 'nombre_flotteurs_planche_a_voile_impliques', 'nombre_flotteurs_ski_nautique_impliques', 'nombre_flotteurs_surf_impliques', 'nombre_flotteurs_vehicule_nautique_a_moteur_impliques', 'sans_flotteur_implique', 'categorie_personne', 'resultat_humain', 'nombre', 'dont_nombre_blesse', 'saison']\n"
     ]
    }
   ],
   "source": [
    "# Afficher tous les noms de colonnes du DataFrame df_final\n",
    "column_names = df_final.columns.tolist()\n",
    "print(column_names)\n"
   ]
  },
  {
   "cell_type": "code",
   "execution_count": 16,
   "metadata": {},
   "outputs": [
    {
     "name": "stdout",
     "output_type": "stream",
     "text": [
      "<img src=\"data:image/png;base64,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\" alt=\"Pie Chart\">\n"
     ]
    },
    {
     "data": {
      "text/plain": [
       "<Figure size 640x480 with 0 Axes>"
      ]
     },
     "metadata": {},
     "output_type": "display_data"
    }
   ],
   "source": [
    "from flask import Flask, render_template, request, send_file\n",
    "import pandas as pd\n",
    "import folium\n",
    "from folium.plugins import MarkerCluster\n",
    "import matplotlib.pyplot as plt\n",
    "import io\n",
    "import base64\n",
    "img_stream = io.BytesIO()\n",
    "plt.savefig(img_stream, format='png')\n",
    "img_stream.seek(0)\n",
    "img_data = img_stream.getvalue()\n",
    "# Convertir le graphique en secteur en base64\n",
    "img_data_base64 = base64.b64encode(img_data).decode('utf-8')\n",
    "\n",
    "# Construire la balise img avec la source base64\n",
    "img_html = f'<img src=\"data:image/png;base64,{img_data_base64}\" alt=\"Pie Chart\">'\n",
    "\n",
    "print(img_html)"
   ]
  },
  {
   "cell_type": "code",
   "execution_count": 22,
   "metadata": {},
   "outputs": [
    {
     "name": "stdout",
     "output_type": "stream",
     "text": [
      "<img src=\"data:image/png;base64,{img_base64}\" alt=\"Pie Chart\">\n"
     ]
    }
   ],
   "source": [
    "filtered_data = df_final.copy()\n",
    "    # Prendre un échantillon après filtrage\n",
    "df_sample = filtered_data.sample(n=200, random_state=42) if len(filtered_data) > 1000 else filtered_data \n",
    "def generate_pie_chart():\n",
    "    # Filtrer les données pour les personnes décédées\n",
    "    df_deceased = df_sample[df_sample['nombre_personnes_decedees'] > 0]\n",
    "\n",
    "    # Générer le graphique en secteur\n",
    "    plt.figure(figsize=(7, 7))\n",
    "    plt.pie(df_deceased.groupby('date')['nombre_personnes_decedees'].sum(),\n",
    "            labels=df_deceased.groupby('date')['nombre_personnes_decedees'].sum().index,\n",
    "            autopct='%1.1f%%', startangle=140)\n",
    "    plt.title('Répartition des personnes décédées par année')\n",
    "    plt.axis('equal')\n",
    "\n",
    "    # Convertir le graphique en image pour l'afficher dans le template HTML\n",
    "    img_stream = io.BytesIO()\n",
    "    plt.savefig(img_stream, format='png', bbox_inches='tight')\n",
    "    img_stream.seek(0)\n",
    "    img_data = img_stream.getvalue()\n",
    "    img_base64 = base64.b64encode(img_data).decode('utf-8')\n",
    "\n",
    "    return f'<img src=\"data:image/png;base64,{img_base64}\" alt=\"Pie Chart\">'\n",
    "\n",
    "print('<img src=\"data:image/png;base64,{img_base64}\" alt=\"Pie Chart\">')"
   ]
  },
  {
   "cell_type": "code",
   "execution_count": 3,
   "metadata": {},
   "outputs": [],
   "source": [
    "\n",
    "from flask import Flask, render_template, request\n",
    "import folium\n",
    "import io\n",
    "import pandas as pd\n",
    "from folium.plugins import MarkerCluster\n",
    "import matplotlib.pyplot as plt\n",
    "import base64\n",
    "import seaborn as sns\n",
    "import matplotlib\n",
    "matplotlib.use('Agg')\n",
    "import matplotlib.pyplot as plt\n",
    "from flask import Flask, send_from_directory\n",
    "from datetime import datetime\n",
    "import os\n",
    "import seaborn as sns\n",
    "import matplotlib.pyplot as plt\n",
    "import matplotlib.ticker as ticker\n",
    "import os\n",
    "\n",
    "def generate_graph_taux_reussite(filtered_data):\n",
    "    plt.figure(figsize=(10, 6))\n",
    "    \n",
    "    # Calculer le taux de réussite par type de flotteur\n",
    "    taux_reussite = filtered_data.groupby('categorie_flotteur')['operation_reussie'].mean() * 100\n",
    "    \n",
    "    ax = sns.barplot(x=taux_reussite.index, y=taux_reussite.values)\n",
    "    plt.title('Taux de Réussite des Opérations par Type de Flotteur')\n",
    "    plt.xlabel('Type de Flotteur')\n",
    "    plt.ylabel('Taux de Réussite (%)')\n",
    "    \n",
    "    # Ajouter des étiquettes de données au-dessus des barres\n",
    "    for p in ax.patches:\n",
    "        ax.annotate(format(p.get_height(), '.1f') + '%', \n",
    "                   (p.get_x() + p.get_width() / 2., p.get_height()), \n",
    "                   ha = 'center', va = 'center', \n",
    "                   xytext = (0, 9), \n",
    "                   textcoords = 'offset points',\n",
    "                   fontsize=10, color='black')\n",
    "    \n",
    "    plt.xticks(rotation=45, ha='right')\n",
    "    plt.tight_layout()\n",
    "    plt.savefig(os.path.join('static', 'modal-taux-reussite.png'))\n",
    "    plt.close()\n",
    "    print(generate_graph_taux_reussite)"
   ]
  },
  {
   "cell_type": "code",
   "execution_count": 4,
   "metadata": {},
   "outputs": [
    {
     "data": {
      "text/plain": [
       "<matplotlib.legend.Legend at 0x1e9cd5d6ba0>"
      ]
     },
     "execution_count": 4,
     "metadata": {},
     "output_type": "execute_result"
    }
   ],
   "source": [
    "\n",
    "\n",
    "\n",
    "from flask import Flask, render_template, request\n",
    "import folium\n",
    "import io\n",
    "import pandas as pd\n",
    "from folium.plugins import MarkerCluster\n",
    "import matplotlib.pyplot as plt\n",
    "import base64\n",
    "import seaborn as sns\n",
    "import matplotlib\n",
    "matplotlib.use('Agg')\n",
    "import matplotlib.pyplot as plt\n",
    "from flask import Flask, send_from_directory\n",
    "from datetime import datetime\n",
    "import os\n",
    "import seaborn as sns\n",
    "import matplotlib.pyplot as plt\n",
    "import matplotlib.ticker as ticker\n",
    "import os\n",
    "\n",
    "plt.figure(1)\n",
    "plt.pie(x = [25285,14255,15225,12670,13905,16500], labels = ['Jan', 'Feb', 'Mar', 'April', 'May', 'June'],\n",
    "           colors = ['#5830f3', '#7644e3', '#16369b', '#16e5cb', '#7ecff1','#c7d8f0'],\n",
    "           autopct = lambda x: str(round(x, 2)) + '%')\n",
    "plt.legend()"
   ]
  }
 ],
 "metadata": {
  "kernelspec": {
   "display_name": "Python 3",
   "language": "python",
   "name": "python3"
  },
  "language_info": {
   "codemirror_mode": {
    "name": "ipython",
    "version": 3
   },
   "file_extension": ".py",
   "mimetype": "text/x-python",
   "name": "python",
   "nbconvert_exporter": "python",
   "pygments_lexer": "ipython3",
   "version": "3.12.3"
  }
 },
 "nbformat": 4,
 "nbformat_minor": 2
}
